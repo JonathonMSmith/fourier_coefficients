{
 "cells": [
  {
   "cell_type": "code",
   "execution_count": 7,
   "metadata": {},
   "outputs": [],
   "source": [
    "import warnings\n",
    "import numpy as np\n",
    "from scipy.optimize import curve_fit\n",
    "import matplotlib.pyplot as plt"
   ]
  },
  {
   "cell_type": "code",
   "execution_count": 8,
   "metadata": {},
   "outputs": [],
   "source": [
    "def make_fourier(na, nb):\n",
    "    \"\"\" The function for the curve fit\n",
    "    Parameters\n",
    "    ----------\n",
    "    na: (int)\n",
    "        number of cosine terms/coefficients\n",
    "    nb: (int)\n",
    "        number of sin terms/coefficients\n",
    "    \"\"\"\n",
    "    def fourier(x, *a):\n",
    "        ret = a[0]\n",
    "        for deg in range(0, na):\n",
    "            ret += a[deg + 1] * np.cos((deg + 1) * np.pi * x / 12)\n",
    "        for deg in range(na, na+nb):\n",
    "            ret += a[deg + 1] * np.sin((deg - na + 1) * np.pi * x / 12)\n",
    "        return ret\n",
    "    return fourier"
   ]
  },
  {
   "cell_type": "code",
   "execution_count": 9,
   "metadata": {},
   "outputs": [],
   "source": [
    "def fourier_fit(local_times, drifts, num_co):\n",
    "    \"\"\" Here the terms in the fourier fit are actually determined\n",
    "    Parameters\n",
    "    ----------\n",
    "    local_times : (array-like)\n",
    "        xdim for fit; local time values\n",
    "    drifts : (array-like)\n",
    "        ydim for fit; median drift values from data\n",
    "    num_co : (int)\n",
    "        'number of coefficients) how many sin/cosine pairs for the fit\n",
    "\n",
    "    Returns\n",
    "    -------\n",
    "    ve01 : float\n",
    "        linear offset of the fourier fit\n",
    "    coefficients : num_co by 2 array like\n",
    "        coefficients to describe the fourier function that fits the drifts\n",
    "    \"\"\"\n",
    "    coefficients = np.zeros((num_co, 2))\n",
    "    ind, = np.where(~np.isnan(drifts))\n",
    "    if ind.size < num_co*2+1:\n",
    "        warnings.warn('not enough viable drift data, '\n",
    "                      'returning zero value \\\"flat fit\\\"', Warning)\n",
    "        return 0, coefficients\n",
    "    # popt contains the coeficients. First ten are cosines, second ten are sins\n",
    "    popt, pcov = curve_fit(make_fourier(num_co, num_co), local_times[ind],\n",
    "                           drifts[ind], [0.0]*(num_co*2+1))\n",
    "    # format the coefficients for input ito the SAMI2 model\n",
    "    # the shape is np.zeroes((10,2))\n",
    "    ve01 = popt[0]\n",
    "    for n in range(1, num_co*2):\n",
    "        i = (n - 1) % num_co\n",
    "        j = int((n - 1) / num_co)\n",
    "        coefficients[i, j] = popt[n]\n",
    "\n",
    "    return ve01, coefficients"
   ]
  },
  {
   "cell_type": "code",
   "execution_count": 10,
   "metadata": {},
   "outputs": [],
   "source": [
    "def exb_calc(coefficients, ve01, t):\n",
    "    '''\n",
    "    Parameters\n",
    "    ----------\n",
    "    coefficients : (array)\n",
    "        10x2 array of Fourier coefficients\n",
    "    ve01 : (float)\n",
    "        flat offset for fourier function 0 by default\n",
    "    t : (float)\n",
    "        time in hours\n",
    "    '''\n",
    "    exb = ve01\n",
    "    for i, term in enumerate(coefficients):\n",
    "        a = term[0]\n",
    "        b = term[1]\n",
    "        exb += ((a * np.cos((i+1) * t * np.pi / 12)) +\n",
    "                (b * np.sin((i+1) * t * np.pi / 12)))\n",
    "    return exb"
   ]
  },
  {
   "cell_type": "code",
   "execution_count": 11,
   "metadata": {},
   "outputs": [],
   "source": [
    "def sinusoidal_drifts(amplitude=30):\n",
    "    \"\"\"Simple sinusoidal drifts with a positive peak in amplitude near noon\n",
    "    \"\"\"\n",
    "    coef = np.array([[-1, 0, 0, 0, 0, 0, 0, 0, 0, 0],\n",
    "                     [0, 0, 0, 0, 0, 0, 0, 0, 0, 0]])\n",
    "\n",
    "    drift = []\n",
    "    time = np.linspace(0, 24, 49)\n",
    "\n",
    "    for t in time:\n",
    "        d = exb_calc(coef, 0, t)\n",
    "        drift.append(d)\n",
    "\n",
    "    drift = np.array(drift)\n",
    "    drift = amplitude*drift\n",
    "    return drift"
   ]
  },
  {
   "cell_type": "code",
   "execution_count": 12,
   "metadata": {},
   "outputs": [],
   "source": [
    "def sinusoidal_pre_drifts(amplitude=30):\n",
    "    \"\"\"Simple sinusoidal drifts with a positive peak in amplitude near noon\n",
    "        and a smaller second peak near dusk roughly simulating a pre-reversal\n",
    "        enhancement\n",
    "    \"\"\"\n",
    "    drift = sinusoidal_drifts()\n",
    "    time = np.linspace(0, 24, 49)\n",
    "\n",
    "    # add in the pre reversal enhancement\n",
    "    drift[37] = 10\n",
    "    drift[38] = 20\n",
    "    drift[39] = np.mean([20, drift[40]])\n",
    "\n",
    "    # compute new coefficients\n",
    "    pre_v0, pre_coeff = fourier_fit(time, drift, 10)\n",
    "\n",
    "    # make new time series from those coefficients\n",
    "    fit_drift = []\n",
    "    for t in time:\n",
    "        d = exb_calc(pre_coeff, 0, t)\n",
    "        fit_drift.append(d)\n",
    "\n",
    "    fit_drift = np.array(fit_drift)\n",
    "    return drift, fit_drift, pre_v0, pre_coeff"
   ]
  },
  {
   "cell_type": "code",
   "execution_count": 13,
   "metadata": {},
   "outputs": [],
   "source": [
    "drift, fit_drift, pre_v0, pre_coeff = sinusoidal_pre_drifts()"
   ]
  },
  {
   "cell_type": "code",
   "execution_count": 15,
   "metadata": {},
   "outputs": [
    {
     "data": {
      "image/png": "[encoded data removed]",
      "text/plain": [
       "<Figure size 432x288 with 1 Axes>"
      ]
     },
     "metadata": {
      "needs_background": "light"
     },
     "output_type": "display_data"
    }
   ],
   "source": [
    "plt.plot(drift)\n",
    "plt.plot(fit_drift)\n",
    "plt.show()"
   ]
  },
  {
   "cell_type": "code",
   "execution_count": 16,
   "metadata": {},
   "outputs": [
    {
     "data": {
      "text/plain": [
       "array([[-2.94315409e+01, -2.23048124e+00],\n",
       "       [-2.00340053e+00, -1.14040270e+00],\n",
       "       [-1.60765077e+00,  1.57663052e+00],\n",
       "       [ 1.05101032e+00,  1.87430084e+00],\n",
       "       [ 1.97903113e+00, -5.36501104e-01],\n",
       "       [-2.76541726e-02, -1.97875942e+00],\n",
       "       [-1.82992582e+00, -4.84621146e-01],\n",
       "       [-9.00598166e-01,  1.50401033e+00],\n",
       "       [ 1.10122741e+00,  1.13431153e+00],\n",
       "       [ 1.23414180e+00,  0.00000000e+00]])"
      ]
     },
     "execution_count": 16,
     "metadata": {},
     "output_type": "execute_result"
    }
   ],
   "source": [
    "pre_coeff"
   ]
  },
  {
   "cell_type": "code",
   "execution_count": null,
   "metadata": {},
   "outputs": [],
   "source": []
  }
 ],
 "metadata": {
  "kernelspec": {
   "display_name": "Python 3",
   "language": "python",
   "name": "python3"
  },
  "language_info": {
   "codemirror_mode": {
    "name": "ipython",
    "version": 3
   },
   "file_extension": ".py",
   "mimetype": "text/x-python",
   "name": "python",
   "nbconvert_exporter": "python",
   "pygments_lexer": "ipython3",
   "version": "3.7.3"
  }
 },
 "nbformat": 4,
 "nbformat_minor": 2
}
